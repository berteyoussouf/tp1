{
  "nbformat": 4,
  "nbformat_minor": 0,
  "metadata": {
    "colab": {
      "provenance": [],
      "authorship_tag": "ABX9TyOQB+1WA2FoG/Z3Q5nXM/F0",
      "include_colab_link": true
    },
    "kernelspec": {
      "name": "python3",
      "display_name": "Python 3"
    },
    "language_info": {
      "name": "python"
    }
  },
  "cells": [
    {
      "cell_type": "markdown",
      "metadata": {
        "id": "view-in-github",
        "colab_type": "text"
      },
      "source": [
        "<a href=\"https://colab.research.google.com/github/berteyoussouf/tp1/blob/main/TP3_optimisation.ipynb\" target=\"_parent\"><img src=\"https://colab.research.google.com/assets/colab-badge.svg\" alt=\"Open In Colab\"/></a>"
      ]
    },
    {
      "cell_type": "markdown",
      "source": [
        "# TP3 Optimisaation\n",
        "# M1-DS\n",
        "# Prof :  Arthur Marmin\n",
        "# BERTE Youssouf"
      ],
      "metadata": {
        "id": "f5sKXl6zH2zU"
      }
    },
    {
      "cell_type": "markdown",
      "source": [
        "### **Introduction**  \n",
        "\n",
        "Ce projet vise à implémenter l'algorithme du simplexe pour résoudre un problème d'optimisation en robotique. Nous cherchons à maximiser la distance de sécurité d'un robot contraint à se déplacer sur une ligne droite dans un environnement polygonal.  \n",
        "\n",
        "L'étude combine :  \n",
        "1. Une **implémentation rigoureuse** du simplexe (phases I/II)  \n",
        "2. Son application pour **optimiser la position du robot**  \n",
        "3. Une **validation** par comparaison avec SciPy  \n",
        "\n",
        "Les résultats permettront d'identifier la position optimale et les contraintes limitant la sécurité du robot.  \n"
      ],
      "metadata": {
        "id": "6OKI6iPHHKdx"
      }
    },
    {
      "cell_type": "markdown",
      "source": [
        "# Partie 1:"
      ],
      "metadata": {
        "id": "mHpxmv99Hazj"
      }
    },
    {
      "cell_type": "markdown",
      "source": [
        "Question 1: Implémentation de la méthode du simplexe\n"
      ],
      "metadata": {
        "id": "UYHZ78ZesaEt"
      }
    },
    {
      "cell_type": "code",
      "execution_count": 4,
      "metadata": {
        "id": "z_z8wrJfsX4T"
      },
      "outputs": [],
      "source": [
        "import numpy as np\n",
        "\n",
        "def simplex_method(A, b, c, is_init=False):\n",
        "    \"\"\"\n",
        "    Implémentation de la méthode du simplexe\n",
        "\n",
        "    Args:\n",
        "        A: matrice des contraintes (m x n)\n",
        "        b: vecteur des termes constants (m)\n",
        "        c: vecteur des coûts (n)\n",
        "        is_init: booléen indiquant si on est en phase I (initialisation) ou phase II\n",
        "\n",
        "    Returns:\n",
        "        solution optimale ou indication de problème non borné ou infaisable\n",
        "    \"\"\"\n",
        "    m, n = A.shape\n",
        "    w = np.zeros(n)\n",
        "\n",
        "    # Phase I: Trouver un sommet initial\n",
        "    if not is_init:\n",
        "        # Créer le problème auxiliaire pour la phase I\n",
        "        A_aux = np.hstack([A, np.eye(m)])\n",
        "        c_aux = np.concatenate([np.zeros(n), np.ones(m)])\n",
        "        b_aux = b.copy()\n",
        "\n",
        "        # Solution initiale pour la phase I\n",
        "        I_init = list(range(n, n+m))  # Variables artificielles\n",
        "        J_init = list(range(n))\n",
        "\n",
        "        # Appel récursif pour la phase I\n",
        "        result = simplex_method(A_aux, b_aux, c_aux, is_init=True)\n",
        "\n",
        "        if result is None or np.any(result[n:] > 1e-6):\n",
        "            return None  # Problème infaisable\n",
        "\n",
        "        # Récupérer la solution de la phase I\n",
        "        w = result[:n]\n",
        "        I = [i for i in range(n) if abs(w[i]) > 1e-6]\n",
        "        if len(I) < m:\n",
        "            # Besoin de compléter la base\n",
        "            for j in range(n):\n",
        "                if j not in I:\n",
        "                    Aj = A[:, j]\n",
        "                    if np.linalg.matrix_rank(A[:, I + [j]]) > np.linalg.matrix_rank(A[:, I]):\n",
        "                        I.append(j)\n",
        "                        if len(I) == m:\n",
        "                            break\n",
        "    else:\n",
        "        # Initialisation pour la phase I\n",
        "        I = list(range(n - m, n))  # On suppose que les dernières variables forment une base initiale\n",
        "        w = np.zeros(n)\n",
        "        w[I] = np.linalg.solve(A[:, I], b)\n",
        "\n",
        "    J = [j for j in range(n) if j not in I]\n",
        "\n",
        "    while True:\n",
        "        # Étape 1: Calcul des coûts réduits\n",
        "        A_I = A[:, I]\n",
        "        A_I_inv = np.linalg.inv(A_I)\n",
        "        c_I = c[I]\n",
        "        r = c[J] - A[:, J].T.dot(A_I_inv.T.dot(c_I))\n",
        "\n",
        "        # Étape 2: Critère d'arrêt\n",
        "        if np.all(r >= -1e-6):\n",
        "            break\n",
        "\n",
        "        # Étape 3: Choix de la variable entrante\n",
        "        j_idx = np.argmin(r)\n",
        "        j = J[j_idx]\n",
        "\n",
        "        # Étape 4: Calcul de la direction\n",
        "        Delta_j = A_I_inv.dot(A[:, j])\n",
        "\n",
        "        # Étape 5: Test d'optimalité\n",
        "        if np.all(Delta_j <= 1e-6):\n",
        "            return None  # Problème non borné\n",
        "\n",
        "        # Étape 6: Choix de la variable sortante\n",
        "        I_plus = [i for i in range(m) if Delta_j[i] > 1e-6]\n",
        "        if not I_plus:\n",
        "            return None  # Problème non borné\n",
        "\n",
        "        ratios = [w[I[i]] / Delta_j[i] for i in I_plus]\n",
        "        k_idx = np.argmin(ratios)\n",
        "        k = I[I_plus[k_idx]]\n",
        "        x_j = ratios[k_idx]\n",
        "\n",
        "        # Étape 7: Mise à jour\n",
        "        w_I_new = w[I] - x_j * Delta_j\n",
        "        w_new = np.zeros(n)\n",
        "        w_new[I] = w_I_new\n",
        "        w_new[j] = x_j\n",
        "\n",
        "        # Mise à jour des ensembles\n",
        "        I.remove(k)\n",
        "        I.append(j)\n",
        "        I.sort()\n",
        "        J = [j for j in range(n) if j not in I]\n",
        "        w = w_new\n",
        "\n",
        "    solution = np.zeros(n)\n",
        "    solution[I] = np.linalg.solve(A[:, I], b)\n",
        "    return solution"
      ]
    },
    {
      "cell_type": "markdown",
      "source": [
        "Question 2: Test sur l'exemple du cours"
      ],
      "metadata": {
        "id": "8wDBeDmRs-eR"
      }
    },
    {
      "cell_type": "code",
      "source": [
        "# Définition du problème\n",
        "A = np.array([\n",
        "    [1, 2, -1, 0],\n",
        "    [2, 3, 0, -1]\n",
        "])\n",
        "b = np.array([12, 20])\n",
        "c = np.array([1, 3, 0, 0])\n",
        "\n",
        "# Résolution\n",
        "solution = simplex_method(A, b, c)\n",
        "print(\"Solution optimale:\", solution)"
      ],
      "metadata": {
        "colab": {
          "base_uri": "https://localhost:8080/"
        },
        "id": "hlIgGNzCtAZH",
        "outputId": "922bdda5-153c-4a68-be87-c2e8b6a46e32"
      },
      "execution_count": null,
      "outputs": [
        {
          "output_type": "stream",
          "name": "stdout",
          "text": [
            "Solution optimale: [12.  0.  0.  4.]\n"
          ]
        }
      ]
    },
    {
      "cell_type": "markdown",
      "source": [
        "Question 3"
      ],
      "metadata": {
        "id": "AjCmBqZJSNGS"
      }
    },
    {
      "cell_type": "code",
      "source": [
        "import numpy as np\n",
        "\n",
        "def simplex_method_with_detailed_print(A, b, c):\n",
        "    m, n = A.shape\n",
        "    tol = 1e-6\n",
        "\n",
        "    def convert_idx(idx_list):\n",
        "        return [i+1 for i in idx_list]\n",
        "\n",
        "    print(\"=== DÉBUT DE LA MÉTHODE DU SIMPLEXE ===\")\n",
        "    print(\"Forme standard:\")\n",
        "    print(f\"A = \\n{A}\")\n",
        "    print(f\"b = {b}\")\n",
        "    print(f\"c = {c}\\n\")\n",
        "\n",
        "    # Phase I: Initialisation avec variables artificielles\n",
        "    print(\"\\n=== PHASE I: RECHERCHE D'UNE SOLUTION INITIALE FAISABLE ===\")\n",
        "\n",
        "    A_phase1 = np.hstack([A, np.eye(m)])\n",
        "    c_phase1 = np.concatenate([np.zeros(n), np.ones(m)])\n",
        "    n_phase1 = n + m\n",
        "\n",
        "    I = list(range(n, n_phase1))  # Base initiale = variables artificielles\n",
        "    J = list(range(n))\n",
        "    w = np.zeros(n_phase1)\n",
        "    w[I] = b.copy()\n",
        "\n",
        "    # Itérations Phase I\n",
        "    for iteration in range(1, 100):  # Limite d'itérations pour éviter les boucles infinies\n",
        "        A_I = A_phase1[:, I]\n",
        "        try:\n",
        "            A_I_inv = np.linalg.inv(A_I)\n",
        "        except np.linalg.LinAlgError:\n",
        "            print(\"Matrice de base singulière → Problème mal conditionné\")\n",
        "            return None\n",
        "\n",
        "        r = c_phase1[J] - A_phase1[:, J].T.dot(A_I_inv.T.dot(c_phase1[I]))\n",
        "\n",
        "        print(f\"\\n--- Phase I - Itération {iteration} ---\")\n",
        "        print(f\"Base I: {convert_idx(I)}\")\n",
        "        print(f\"Sommet w: {dict(zip(convert_idx(I), np.round(w[I], 6)))}\")\n",
        "        print(f\"Coûts réduits r: {dict(zip(convert_idx(J), np.round(r, 6)))}\")\n",
        "\n",
        "        if np.all(r >= -tol):\n",
        "            print(\"Condition d'optimalité satisfaite\")\n",
        "            break\n",
        "\n",
        "        j = J[np.argmin(r)]\n",
        "        Delta_j = A_I_inv.dot(A_phase1[:, j])\n",
        "\n",
        "        print(f\"Variable entrante: x{j+1}\")\n",
        "        print(f\"Direction Δj: {dict(zip(convert_idx(I), np.round(Delta_j, 6)))}\")\n",
        "\n",
        "        if np.all(Delta_j <= tol):\n",
        "            print(\"Problème non borné\")\n",
        "            return None\n",
        "\n",
        "        I_plus = [i for i in range(m) if Delta_j[i] > tol]\n",
        "        ratios = [w[I[i]]/Delta_j[i] for i in I_plus]\n",
        "        k_idx = I_plus[np.argmin(ratios)]\n",
        "        k = I[k_idx]\n",
        "        x_j = np.min(ratios)\n",
        "\n",
        "        print(f\"Variable sortante: x{k+1}\")\n",
        "        print(f\"Nouvelle valeur x{j+1}: {x_j:.6f}\")\n",
        "\n",
        "        # Mise à jour\n",
        "        w[I] -= x_j * Delta_j\n",
        "        w[j] = x_j\n",
        "        I.remove(k)\n",
        "        I.append(j)\n",
        "        I.sort()\n",
        "        J = [j for j in range(n_phase1) if j not in I]\n",
        "\n",
        "    # Vérification faisabilité\n",
        "    if np.any(w[n:] > tol):\n",
        "        print(\"Problème infaisable\")\n",
        "        return None\n",
        "\n",
        "    # Phase II: Préparation\n",
        "    print(\"\\n=== PHASE II: RÉSOLUTION DU PROBLÈME ORIGINAL ===\")\n",
        "\n",
        "    I = [i for i in I if i < n]  # On retire les variables artificielles\n",
        "    if len(I) < m:\n",
        "        # Compléter la base si nécessaire\n",
        "        for j in range(n):\n",
        "            if j not in I:\n",
        "                Aj = A[:, j]\n",
        "                if np.linalg.matrix_rank(A[:, I + [j]]) > np.linalg.matrix_rank(A[:, I]):\n",
        "                    I.append(j)\n",
        "                    if len(I) == m:\n",
        "                        break\n",
        "\n",
        "    J = [j for j in range(n) if j not in I]\n",
        "    w = np.zeros(n)\n",
        "    w[I] = np.linalg.solve(A[:, I], b)\n",
        "\n",
        "    # Itérations Phase II\n",
        "    # Phase II corrigée :\n",
        "    for iteration in range(1, 100):\n",
        "        A_I = A[:, I]\n",
        "        A_I_inv = np.linalg.inv(A_I)\n",
        "\n",
        "        # Calcul précis des coûts réduits\n",
        "        r = c[J] - (A[:, J].T @ A_I_inv.T @ c[I])\n",
        "        r = np.round(r, 8)  # Arrondi critique\n",
        "\n",
        "        print(f\"Coûts réduits r: {dict(zip(convert_idx(J), r))}\")\n",
        "\n",
        "        if np.all(r >= -tol):\n",
        "            print(\"OPTIMAL - Arrêt\")\n",
        "            break\n",
        "\n",
        "        print(f\"\\n--- Phase II - Itération {iteration} ---\")\n",
        "        print(f\"Base I: {convert_idx(I)}\")\n",
        "        print(f\"Sommet w: {dict(zip(convert_idx(I), np.round(w[I], 6)))}\")\n",
        "        print(f\"Coûts réduits r: {dict(zip(convert_idx(J), np.round(r, 6)))}\")\n",
        "\n",
        "        # Critère d'arrêt renforcé\n",
        "        if np.all(np.round(r, 8) >= -tol):  # Seuil numérique plus strict\n",
        "            print(\"Solution optimale trouvée\")\n",
        "            break\n",
        "\n",
        "        j = J[np.argmin(r)]\n",
        "        Delta_j = A_I_inv.dot(A[:, j])\n",
        "\n",
        "        print(f\"Variable entrante: x{j+1}\")\n",
        "        print(f\"Direction Δj: {dict(zip(convert_idx(I), np.round(Delta_j, 6)))}\")\n",
        "\n",
        "        if np.all(Delta_j <= tol):\n",
        "            print(\"Problème non borné\")\n",
        "            return None\n",
        "\n",
        "        I_plus = [i for i in range(m) if Delta_j[i] > tol]\n",
        "        ratios = [w[I[i]]/Delta_j[i] for i in I_plus]\n",
        "        k_idx = I_plus[np.argmin(ratios)]\n",
        "        k = I[k_idx]\n",
        "        x_j = np.min(ratios)\n",
        "\n",
        "        print(f\"Variable sortante: x{k+1}\")\n",
        "        print(f\"Nouvelle valeur x{j+1}: {x_j:.6f}\")\n",
        "\n",
        "        # Mise à jour\n",
        "        w[I] -= x_j * Delta_j\n",
        "        w[j] = x_j\n",
        "        I.remove(k)\n",
        "        I.append(j)\n",
        "        I.sort()\n",
        "        J = [j for j in range(n) if j not in I]\n",
        "\n",
        "    solution = np.zeros(n)\n",
        "    solution[I] = np.linalg.solve(A[:, I], b)\n",
        "\n",
        "    print(\"\\n=== SOLUTION FINALE ===\")\n",
        "    print(f\"Solution: {dict(zip(convert_idx(range(n)), np.round(solution, 6)))}\")\n",
        "    print(f\"Valeur optimale: {np.dot(c, solution):.6f}\")\n",
        "\n",
        "    return solution"
      ],
      "metadata": {
        "id": "Hyijv_1DVqd-"
      },
      "execution_count": 5,
      "outputs": []
    },
    {
      "cell_type": "markdown",
      "source": [
        "Application à l'exemple du cours:"
      ],
      "metadata": {
        "id": "NrrEPK4J2P-L"
      }
    },
    {
      "cell_type": "code",
      "source": [
        "# Exemple du cours (6.11)\n",
        "A = np.array([\n",
        "    [1, 2, -1, 0],  # x1 + 2x2 - x3 = 12\n",
        "    [2, 3, 0, -1]    # 2x1 + 3x2 - x4 = 20\n",
        "])\n",
        "b = np.array([12, 20])\n",
        "c = np.array([1, 3, 0, 0])  # min x1 + 3x2\n",
        "\n",
        "# Résolution avec affichage détaillé\n",
        "solution = simplex_method_with_detailed_print(A, b, c)"
      ],
      "metadata": {
        "colab": {
          "base_uri": "https://localhost:8080/"
        },
        "id": "kx-c64Us2SC5",
        "outputId": "87ea91c7-1d0b-46d4-d978-18882f95dff8"
      },
      "execution_count": 6,
      "outputs": [
        {
          "output_type": "stream",
          "name": "stdout",
          "text": [
            "=== DÉBUT DE LA MÉTHODE DU SIMPLEXE ===\n",
            "Forme standard:\n",
            "A = \n",
            "[[ 1  2 -1  0]\n",
            " [ 2  3  0 -1]]\n",
            "b = [12 20]\n",
            "c = [1 3 0 0]\n",
            "\n",
            "\n",
            "=== PHASE I: RECHERCHE D'UNE SOLUTION INITIALE FAISABLE ===\n",
            "\n",
            "--- Phase I - Itération 1 ---\n",
            "Base I: [5, 6]\n",
            "Sommet w: {5: np.float64(12.0), 6: np.float64(20.0)}\n",
            "Coûts réduits r: {1: np.float64(-3.0), 2: np.float64(-5.0), 3: np.float64(1.0), 4: np.float64(1.0)}\n",
            "Variable entrante: x2\n",
            "Direction Δj: {5: np.float64(2.0), 6: np.float64(3.0)}\n",
            "Variable sortante: x5\n",
            "Nouvelle valeur x2: 6.000000\n",
            "\n",
            "--- Phase I - Itération 2 ---\n",
            "Base I: [2, 6]\n",
            "Sommet w: {2: np.float64(6.0), 6: np.float64(2.0)}\n",
            "Coûts réduits r: {1: np.float64(-0.5), 3: np.float64(-1.5), 4: np.float64(1.0), 5: np.float64(2.5)}\n",
            "Variable entrante: x3\n",
            "Direction Δj: {2: np.float64(-0.5), 6: np.float64(1.5)}\n",
            "Variable sortante: x6\n",
            "Nouvelle valeur x3: 1.333333\n",
            "\n",
            "--- Phase I - Itération 3 ---\n",
            "Base I: [2, 3]\n",
            "Sommet w: {2: np.float64(6.666667), 3: np.float64(1.333333)}\n",
            "Coûts réduits r: {1: np.float64(0.0), 4: np.float64(0.0), 5: np.float64(1.0), 6: np.float64(1.0)}\n",
            "Condition d'optimalité satisfaite\n",
            "\n",
            "=== PHASE II: RÉSOLUTION DU PROBLÈME ORIGINAL ===\n",
            "Coûts réduits r: {1: np.float64(-1.0), 4: np.float64(1.0)}\n",
            "\n",
            "--- Phase II - Itération 1 ---\n",
            "Base I: [2, 3]\n",
            "Sommet w: {2: np.float64(6.666667), 3: np.float64(1.333333)}\n",
            "Coûts réduits r: {1: np.float64(-1.0), 4: np.float64(1.0)}\n",
            "Variable entrante: x1\n",
            "Direction Δj: {2: np.float64(0.666667), 3: np.float64(0.333333)}\n",
            "Variable sortante: x3\n",
            "Nouvelle valeur x1: 4.000000\n",
            "Coûts réduits r: {3: np.float64(3.0), 4: np.float64(-1.0)}\n",
            "\n",
            "--- Phase II - Itération 2 ---\n",
            "Base I: [1, 2]\n",
            "Sommet w: {1: np.float64(4.0), 2: np.float64(4.0)}\n",
            "Coûts réduits r: {3: np.float64(3.0), 4: np.float64(-1.0)}\n",
            "Variable entrante: x4\n",
            "Direction Δj: {1: np.float64(-2.0), 2: np.float64(1.0)}\n",
            "Variable sortante: x2\n",
            "Nouvelle valeur x4: 4.000000\n",
            "Coûts réduits r: {2: np.float64(1.0), 3: np.float64(1.0)}\n",
            "OPTIMAL - Arrêt\n",
            "\n",
            "=== SOLUTION FINALE ===\n",
            "Solution: {1: np.float64(12.0), 2: np.float64(0.0), 3: np.float64(0.0), 4: np.float64(4.0)}\n",
            "Valeur optimale: 12.000000\n"
          ]
        }
      ]
    },
    {
      "cell_type": "markdown",
      "source": [
        "Question 4:  comparaisons"
      ],
      "metadata": {
        "id": "IwFpqifgtZZZ"
      }
    },
    {
      "cell_type": "code",
      "source": [
        "\n",
        "from scipy.optimize import linprog\n",
        "import time\n",
        "\n",
        "# Problème de test (exemple du cours)\n",
        "A = [[1, 2, -1, 0], [2, 3, 0, -1]]\n",
        "b = [12, 20]\n",
        "c = [1, 3, 0, 0]\n",
        "\n",
        "# Notre implémentation\n",
        "start_custom = time.time()\n",
        "sol_custom = simplex_method_with_detailed_print(np.array(A), np.array(b), np.array(c))\n",
        "time_custom = time.time() - start_custom\n",
        "\n",
        "# SciPy linprog\n",
        "start_scipy = time.time()\n",
        "result = linprog(c, A_eq=A, b_eq=b, bounds=(0, None))\n",
        "time_scipy = time.time() - start_scipy"
      ],
      "metadata": {
        "colab": {
          "base_uri": "https://localhost:8080/"
        },
        "id": "mqkVeghhtbd6",
        "outputId": "3248eacd-bfed-4f1f-f1f8-1e2da7a4fe59"
      },
      "execution_count": null,
      "outputs": [
        {
          "output_type": "stream",
          "name": "stdout",
          "text": [
            "=== DÉBUT DE LA MÉTHODE DU SIMPLEXE ===\n",
            "Forme standard:\n",
            "A = \n",
            "[[ 1  2 -1  0]\n",
            " [ 2  3  0 -1]]\n",
            "b = [12 20]\n",
            "c = [1 3 0 0]\n",
            "\n",
            "\n",
            "=== PHASE I: RECHERCHE D'UNE SOLUTION INITIALE FAISABLE ===\n",
            "\n",
            "--- Phase I - Itération 1 ---\n",
            "Indices de base I (1-based): [5, 6]\n",
            "Sommet courant w (1-based): {5: np.float64(12.0), 6: np.float64(20.0)}\n",
            "Coûts réduits r (1-based): {1: np.float64(-3.0), 2: np.float64(-5.0), 3: np.float64(1.0), 4: np.float64(1.0)}\n",
            "Sous-matrice A_I (1-based):\n",
            "[[1. 0.]\n",
            " [0. 1.]]\n",
            "Sous-matrice A_J (1-based):\n",
            "[[ 1.  2. -1.  0.]\n",
            " [ 2.  3.  0. -1.]]\n",
            "\n",
            "Variable entrante: x2 (indice 1)\n",
            "Vecteur Δj (1-based): {5: np.float64(2.0), 6: np.float64(3.0)}\n",
            "Ensemble I+ (indices 1-based): [5, 6]\n",
            "Ratios: {5: np.float64(6.0), 6: np.float64(6.666667)}\n",
            "Variable sortante: x5 (indice 4)\n",
            "Valeur de x2: 6.000000\n",
            "\n",
            "Nouvelle base (1-based): [2, 6]\n",
            "Nouveau sommet (1-based): {2: np.float64(6.0), 6: np.float64(2.0)}\n",
            "\n",
            "--- Phase I - Itération 2 ---\n",
            "Indices de base I (1-based): [2, 6]\n",
            "Sommet courant w (1-based): {2: np.float64(6.0), 6: np.float64(2.0)}\n",
            "Coûts réduits r (1-based): {1: np.float64(-0.5), 3: np.float64(-1.5), 4: np.float64(1.0), 5: np.float64(2.5)}\n",
            "Sous-matrice A_I (1-based):\n",
            "[[2. 0.]\n",
            " [3. 1.]]\n",
            "Sous-matrice A_J (1-based):\n",
            "[[ 1. -1.  0.  1.]\n",
            " [ 2.  0. -1.  0.]]\n",
            "\n",
            "Variable entrante: x3 (indice 2)\n",
            "Vecteur Δj (1-based): {2: np.float64(-0.5), 6: np.float64(1.5)}\n",
            "Ensemble I+ (indices 1-based): [6]\n",
            "Ratios: {6: np.float64(1.333333)}\n",
            "Variable sortante: x6 (indice 5)\n",
            "Valeur de x3: 1.333333\n",
            "\n",
            "Nouvelle base (1-based): [2, 3]\n",
            "Nouveau sommet (1-based): {2: np.float64(6.666667), 3: np.float64(1.333333)}\n",
            "\n",
            "--- Phase I - Itération 3 ---\n",
            "Indices de base I (1-based): [2, 3]\n",
            "Sommet courant w (1-based): {2: np.float64(6.666666666666667), 3: np.float64(1.3333333333333333)}\n",
            "Coûts réduits r (1-based): {1: np.float64(0.0), 4: np.float64(0.0), 5: np.float64(1.0), 6: np.float64(1.0)}\n",
            "Sous-matrice A_I (1-based):\n",
            "[[ 2. -1.]\n",
            " [ 3.  0.]]\n",
            "Sous-matrice A_J (1-based):\n",
            "[[ 1.  0.  1.  0.]\n",
            " [ 2. -1.  0.  1.]]\n",
            "\n",
            "Condition d'optimalité satisfaite en Phase I\n",
            "\n",
            "=== PHASE II: RÉSOLUTION DU PROBLÈME ORIGINAL ===\n",
            "\n",
            "--- Phase II - Itération 1 ---\n",
            "Indices de base I (1-based): [2, 3]\n",
            "Sommet courant w (1-based): {2: np.float64(6.666667), 3: np.float64(1.333333)}\n",
            "Coûts réduits r (1-based): {1: np.float64(-1.0), 4: np.float64(1.0)}\n",
            "Sous-matrice A_I (1-based):\n",
            "[[ 2 -1]\n",
            " [ 3  0]]\n",
            "Sous-matrice A_J (1-based):\n",
            "[[ 1  0]\n",
            " [ 2 -1]]\n",
            "\n",
            "Variable entrante: x1 (indice 0)\n",
            "Vecteur Δj (1-based): {2: np.float64(0.666667), 3: np.float64(0.333333)}\n",
            "Ensemble I+ (indices 1-based): [2, 3]\n",
            "Ratios: {2: np.float64(10.0), 3: np.float64(4.0)}\n",
            "Variable sortante: x3 (indice 2)\n",
            "Valeur de x1: 4.000000\n",
            "\n",
            "Nouvelle base (1-based): [1, 2]\n",
            "Nouveau sommet (1-based): {1: np.float64(4.0), 2: np.float64(4.0)}\n",
            "\n",
            "--- Phase II - Itération 2 ---\n",
            "Indices de base I (1-based): [1, 2]\n",
            "Sommet courant w (1-based): {1: np.float64(4.0), 2: np.float64(4.0)}\n",
            "Coûts réduits r (1-based): {3: np.float64(3.0), 4: np.float64(-1.0)}\n",
            "Sous-matrice A_I (1-based):\n",
            "[[1 2]\n",
            " [2 3]]\n",
            "Sous-matrice A_J (1-based):\n",
            "[[-1  0]\n",
            " [ 0 -1]]\n",
            "\n",
            "Variable entrante: x4 (indice 3)\n",
            "Vecteur Δj (1-based): {1: np.float64(-2.0), 2: np.float64(1.0)}\n",
            "Ensemble I+ (indices 1-based): [2]\n",
            "Ratios: {2: np.float64(4.0)}\n",
            "Variable sortante: x2 (indice 1)\n",
            "Valeur de x4: 4.000000\n",
            "\n",
            "Nouvelle base (1-based): [1, 4]\n",
            "Nouveau sommet (1-based): {1: np.float64(12.0), 4: np.float64(4.0)}\n",
            "\n",
            "--- Phase II - Itération 3 ---\n",
            "Indices de base I (1-based): [1, 4]\n",
            "Sommet courant w (1-based): {1: np.float64(12.0), 4: np.float64(4.0)}\n",
            "Coûts réduits r (1-based): {2: np.float64(1.0), 3: np.float64(1.0)}\n",
            "Sous-matrice A_I (1-based):\n",
            "[[ 1  0]\n",
            " [ 2 -1]]\n",
            "Sous-matrice A_J (1-based):\n",
            "[[ 2 -1]\n",
            " [ 3  0]]\n",
            "\n",
            "Condition d'optimalité satisfaite en Phase II\n",
            "\n",
            "=== SOLUTION FINALE ===\n",
            "Solution optimale (1-based): {1: np.float64(12.0), 2: np.float64(0.0), 3: np.float64(0.0), 4: np.float64(4.0)}\n",
            "Valeur optimale: 12.000000\n"
          ]
        }
      ]
    },
    {
      "cell_type": "markdown",
      "source": [
        "Question 5: methode simplex"
      ],
      "metadata": {
        "id": "BpEG6USbinP8"
      }
    },
    {
      "cell_type": "code",
      "source": [
        "# Matrices du problème transformé\n",
        "A = np.array([\n",
        "    [1, -1, 1, 0],   # x1 - x2 + s1 = 1\n",
        "    [2, 1, 0, -1]     # 2x1 + x2 - s2 = 6\n",
        "])\n",
        "b = np.array([1, 6])\n",
        "c = np.array([-2, 1, 0, 0])  # Fonction objectif: -2x1 + x2\n",
        "\n",
        "# Résolution\n",
        "solution = simplex_method_with_detailed_print(A, b, c)\n",
        "print(\"Solution optimale:\", solution)\n",
        "#print(\"Solution optimale:\", solution[:2])  # Affiche seulement x1 et x2"
      ],
      "metadata": {
        "colab": {
          "base_uri": "https://localhost:8080/"
        },
        "id": "rIwXIh9Fi3So",
        "outputId": "67f284dc-d093-4b6f-d928-befd350167a0"
      },
      "execution_count": null,
      "outputs": [
        {
          "output_type": "stream",
          "name": "stdout",
          "text": [
            "=== DÉBUT DE LA MÉTHODE DU SIMPLEXE ===\n",
            "Forme standard:\n",
            "A = \n",
            "[[ 1 -1  1  0]\n",
            " [ 2  1  0 -1]]\n",
            "b = [1 6]\n",
            "c = [-2  1  0  0]\n",
            "\n",
            "\n",
            "=== PHASE I: RECHERCHE D'UNE SOLUTION INITIALE FAISABLE ===\n",
            "\n",
            "--- Phase I - Itération 1 ---\n",
            "Base I: [5, 6]\n",
            "Sommet w: {5: np.float64(1.0), 6: np.float64(6.0)}\n",
            "Coûts réduits r: {1: np.float64(-3.0), 2: np.float64(0.0), 3: np.float64(-1.0), 4: np.float64(1.0)}\n",
            "Variable entrante: x1\n",
            "Direction Δj: {5: np.float64(1.0), 6: np.float64(2.0)}\n",
            "Variable sortante: x5\n",
            "Nouvelle valeur x1: 1.000000\n",
            "\n",
            "--- Phase I - Itération 2 ---\n",
            "Base I: [1, 6]\n",
            "Sommet w: {1: np.float64(1.0), 6: np.float64(4.0)}\n",
            "Coûts réduits r: {2: np.float64(-3.0), 3: np.float64(2.0), 4: np.float64(1.0), 5: np.float64(3.0)}\n",
            "Variable entrante: x2\n",
            "Direction Δj: {1: np.float64(-1.0), 6: np.float64(3.0)}\n",
            "Variable sortante: x6\n",
            "Nouvelle valeur x2: 1.333333\n",
            "\n",
            "--- Phase I - Itération 3 ---\n",
            "Base I: [1, 2]\n",
            "Sommet w: {1: np.float64(2.333333), 2: np.float64(1.333333)}\n",
            "Coûts réduits r: {3: np.float64(0.0), 4: np.float64(0.0), 5: np.float64(1.0), 6: np.float64(1.0)}\n",
            "Condition d'optimalité satisfaite\n",
            "\n",
            "=== PHASE II: RÉSOLUTION DU PROBLÈME ORIGINAL ===\n",
            "Coûts réduits r: {3: np.float64(1.33333333), 4: np.float64(-0.33333333)}\n",
            "\n",
            "--- Phase II - Itération 1 ---\n",
            "Base I: [1, 2]\n",
            "Sommet w: {1: np.float64(2.333333), 2: np.float64(1.333333)}\n",
            "Coûts réduits r: {3: np.float64(1.333333), 4: np.float64(-0.333333)}\n",
            "Variable entrante: x4\n",
            "Direction Δj: {1: np.float64(-0.333333), 2: np.float64(-0.333333)}\n",
            "Problème non borné\n",
            "Solution optimale: None\n"
          ]
        }
      ]
    },
    {
      "cell_type": "markdown",
      "source": [
        "avec spyci"
      ],
      "metadata": {
        "id": "JAH1obW8kqOR"
      }
    },
    {
      "cell_type": "code",
      "source": [
        "from scipy.optimize import linprog\n",
        "\n",
        "# Formulation pour linprog\n",
        "res = linprog(c=[-2, 1], A_ub=[[1, -1]], b_ub=[1], A_eq=[[2, 1]], b_eq=[6], bounds=(0, None))\n",
        "print(\"SciPy solution:\", res.x)"
      ],
      "metadata": {
        "colab": {
          "base_uri": "https://localhost:8080/"
        },
        "id": "SnWyWXA8ktOQ",
        "outputId": "23d4808f-c4eb-4232-ce05-36f5c6225356"
      },
      "execution_count": null,
      "outputs": [
        {
          "output_type": "stream",
          "name": "stdout",
          "text": [
            "SciPy solution: [2.33333333 1.33333333]\n"
          ]
        }
      ]
    },
    {
      "cell_type": "markdown",
      "source": [
        "### **Partie 2 : Application à un Problème Robotique**\n",
        "\n"
      ],
      "metadata": {
        "id": "nEUt1bVGnzad"
      }
    },
    {
      "cell_type": "markdown",
      "source": [
        "Question 1: Représentation graphique de l'ensemble 𝒫 et de la ligne ℒ en Python\n"
      ],
      "metadata": {
        "id": "ByLyEGibS4Wc"
      }
    },
    {
      "cell_type": "code",
      "source": [
        "import numpy as np\n",
        "import matplotlib.pyplot as plt\n",
        "from matplotlib.patches import Polygon\n",
        "\n",
        "# Définition des contraintes de 𝒫\n",
        "def constraint1(x1): return 0  # x2 ≥ 0 → x2 = 0\n",
        "def constraint2(x2): return 0  # x1 ≥ 0 → x1 = 0\n",
        "def constraint3(x1): return (3*x1 - 1)/4  # 3x1 -4x2 ≤ 1 → x2 ≥ (3x1-1)/4\n",
        "def constraint4(x1): return 1  # x2 ≤ 1 → x2 = 1\n",
        "\n",
        "# Création de la figure\n",
        "plt.figure(figsize=(10, 8))\n",
        "plt.title(\"Ensemble 𝒫 et ligne ℒ\", fontsize=16)\n",
        "\n",
        "# Tracé des contraintes\n",
        "x1 = np.linspace(-0.5, 2, 400)\n",
        "\n",
        "# Contrainte 1: x2 ≥ 0 (axe x1)\n",
        "plt.axhline(0, color='blue', linestyle='-', label='x2 ≥ 0')\n",
        "\n",
        "# Contrainte 2: x1 ≥ 0 (axe x2)\n",
        "plt.axvline(0, color='green', linestyle='-', label='x1 ≥ 0')\n",
        "\n",
        "# Contrainte 3: 3x1 -4x2 ≤ 1\n",
        "x2_c3 = constraint3(x1)\n",
        "plt.plot(x1, x2_c3, color='red', label='3x1 -4x2 ≤ 1')\n",
        "\n",
        "# Contrainte 4: x2 ≤ 1\n",
        "plt.axhline(1, color='purple', linestyle='-', label='x2 ≤ 1')\n",
        "\n",
        "# Tracé de la ligne ℒ: x1 = x2\n",
        "plt.plot(x1, x1, color='orange', linestyle='--', linewidth=2, label='ℒ: x1 = x2')\n",
        "\n",
        "# Détermination des sommets du polyèdre 𝒫\n",
        "# Intersection des contraintes\n",
        "# Sommet 1: x1=0 et x2=0\n",
        "# Sommet 2: x1=0 et x2=1\n",
        "# Sommet 3: x2=1 et 3x1-4*1=1 → x1=5/3\n",
        "# Sommet 4: x2=0 et 3x1=1 → x1=1/3\n",
        "vertices = np.array([\n",
        "    [0, 0],\n",
        "    [0, 1],\n",
        "    [5/3, 1],\n",
        "    [1/3, 0]\n",
        "])\n",
        "\n",
        "# Tracé du polyèdre 𝒫\n",
        "poly = Polygon(vertices, closed=True, alpha=0.2, color='gray', label='𝒫')\n",
        "plt.gca().add_patch(poly)\n",
        "\n",
        "# Configuration du graphique\n",
        "plt.xlim(-0.5, 2)\n",
        "plt.ylim(-0.5, 1.5)\n",
        "plt.xlabel('x1', fontsize=12)\n",
        "plt.ylabel('x2', fontsize=12)\n",
        "plt.grid(True)\n",
        "plt.legend(loc='upper right')\n",
        "plt.gca().set_aspect('equal', adjustable='box')\n",
        "\n",
        "# Affichage des sommets\n",
        "for i, vertex in enumerate(vertices):\n",
        "    plt.plot(vertex[0], vertex[1], 'ro')\n",
        "    plt.text(vertex[0]+0.05, vertex[1]+0.05, f'S{i+1}', fontsize=12)\n",
        "\n",
        "plt.show()"
      ],
      "metadata": {
        "colab": {
          "base_uri": "https://localhost:8080/",
          "height": 759
        },
        "id": "YrgEPbNUwsHP",
        "outputId": "59d59ae3-efe5-446c-ea86-ae8b6d8487c8"
      },
      "execution_count": 1,
      "outputs": [
        {
          "output_type": "stream",
          "name": "stderr",
          "text": [
            "/usr/local/lib/python3.11/dist-packages/IPython/core/pylabtools.py:151: UserWarning: Glyph 119979 (\\N{MATHEMATICAL SCRIPT CAPITAL P}) missing from font(s) DejaVu Sans.\n",
            "  fig.canvas.print_figure(bytes_io, **kw)\n"
          ]
        },
        {
          "output_type": "display_data",
          "data": {
            "text/plain": [
              "<Figure size 1000x800 with 1 Axes>"
            ],
            "image/png": "[encoded data removed]"
          },
          "metadata": {}
        }
      ]
    },
    {
      "cell_type": "markdown",
      "source": [
        "\n",
        "\n",
        "### **Question 2 : Description de la balle (disque de sécurité du robot)**\n",
        "\n",
        "La balle (ou disque) centrée en **x = (x₁, x₂)** avec rayon **ρ** est mathématiquement décrite par :  \n",
        "$$\n",
        "\\\n",
        "\\mathcal{B}(\\mathbf{x}, \\rho) = \\left\\{ \\mathbf{y} \\in \\mathbb{R}^2 \\mid \\|\\mathbf{y} - \\mathbf{x}\\|_2 \\leq \\rho \\right\\}\n",
        "\\\n",
        "$$  \n",
        "où :\n",
        "- **x** = position du robot (centre de la balle).\n",
        "- **ρ** = rayon maximal garantissant que la balle reste entièrement dans 𝒫.\n",
        "- **\\|·\\|₂** = norme euclidienne (distance standard).\n",
        "\n",
        "#### **Interprétation géométrique** :\n",
        "1. **Contraintes de 𝒫** : Pour que la balle soit incluse dans 𝒫, la distance de **x** à chaque frontière de 𝒫 doit être ≥ ρ.  \n",
        "   Cela se traduit par les inégalités :\n",
        "   - Distance à $ x_2 \\geq 0 $ : $ -x_2 + \\rho \\leq 0 $  \n",
        "   - Distance à $ x_1 \\geq 0 $ : $ -x_1 + \\rho \\leq 0 $  \n",
        "   - Distance à $ 3x_1 - 4x_2 \\leq 1 $ : $ 3x_1 - 4x_2 + 5\\rho \\leq 1 $ *(normalisation de la distance)*  \n",
        "   - Distance à $ x_2 \\leq 1 $ : $ x_2 + \\rho \\leq 1 $.\n",
        "\n",
        "2. **Visualisation** : Sur votre image, la balle serait un cercle tangent à au moins une des frontières de 𝒫 (car on maximise ρ).  \n",
        "   - Si ρ est maximal, le cercle touchera une ou plusieurs frontières (exemple : tangent à $ x_1 = 0 $ et $ x_2 = 0 $).\n",
        "\n",
        "#### **Cas particulier sur ℒ** :\n",
        "Comme le robot est contraint à ℒ ($ x_1 = x_2 $), la position optimale **x** sera sur la diagonale, et la balle sera symétrique par rapport à ℒ.\n",
        "\n"
      ],
      "metadata": {
        "id": "pcxP2MdMzFxy"
      }
    },
    {
      "cell_type": "markdown",
      "source": [
        "Visualisation"
      ],
      "metadata": {
        "id": "Og2IffLCDoia"
      }
    },
    {
      "cell_type": "code",
      "source": [
        "import matplotlib.pyplot as plt\n",
        "import numpy as np\n",
        "\n",
        "# Position du robot et rayon\n",
        "x1, x2 = 0.6667,0.6667 # obetnu à la question 6\n",
        "rho = 0.3333 # obtenu à la question 6\n",
        "\n",
        "# Tracé du polyèdre 𝒫 (comme dans votre image)\n",
        "fig, ax = plt.subplots(figsize=(8, 6))\n",
        "ax.set_xlim(-0.5, 2)\n",
        "ax.set_ylim(-0.5, 1.5)\n",
        "ax.axhline(0, color='blue', label='x2 ≥ 0')  # Contrainte 1\n",
        "ax.axvline(0, color='green', label='x1 ≥ 0')  # Contrainte 2\n",
        "ax.plot(np.linspace(0, 5/3, 100), (3*np.linspace(0, 5/3, 100) - 1)/4, color='red', label='3x1 -4x2 ≤ 1')  # Contrainte 3\n",
        "ax.axhline(1, color='purple', label='x2 ≤ 1')  # Contrainte 4\n",
        "ax.plot([0, 2], [0, 2], '--', color='orange', label='ℒ: x1 = x2')  # Ligne ℒ\n",
        "\n",
        "# Tracé de la balle\n",
        "circle = plt.Circle((x1, x2), rho, color='cyan', alpha=0.3, label='Balle (ρ)')\n",
        "ax.add_patch(circle)\n",
        "ax.plot(x1, x2, 'ro', label='Position du robot')\n",
        "\n",
        "ax.legend()\n",
        "ax.set_aspect('equal')\n",
        "plt.title(\"Balle de sécurité maximale incluse dans 𝒫\")\n",
        "plt.show()"
      ],
      "metadata": {
        "colab": {
          "base_uri": "https://localhost:8080/",
          "height": 545
        },
        "id": "cVGZ0Aa_yK7b",
        "outputId": "21cd7329-c22b-4fb5-d8af-e98a2514d38e"
      },
      "execution_count": 10,
      "outputs": [
        {
          "output_type": "display_data",
          "data": {
            "text/plain": [
              "<Figure size 800x600 with 1 Axes>"
            ],
            "image/png": "[encoded data removed]"
          },
          "metadata": {}
        }
      ]
    },
    {
      "cell_type": "markdown",
      "source": [
        "### **Question 3 : Formulation du problème d'optimisation**\n",
        "\n",
        "L'objectif est de maximiser la distance minimale **ρ** (rayon de sécurité) entre le robot et les frontières de **𝒫**, tout en respectant :\n",
        "1. La position **x = (x₁, x₂)** du robot reste dans **𝒫**.\n",
        "2. Le robot se déplace uniquement sur la ligne **ℒ** (**x₁ = x₂**).\n",
        "3. La balle de rayon **ρ** centrée en **x** est entièrement contenue dans **𝒫**.\n",
        "\n",
        "---\n",
        "\n",
        "#### **Formulation mathématique** :\n",
        "$$\n",
        "\\\n",
        "\\boxed{\n",
        "\\begin{cases}\n",
        "\\underset{\\mathbf{x}, \\rho}{\\text{maximiser}} & \\rho \\\\\n",
        "\\text{sous contraintes} &\n",
        "\\begin{aligned}\n",
        "    -x_2 + \\rho &\\leq 0 \\quad &\\text{(distance à } x_2 \\geq 0\\text{)} \\\\\n",
        "    -x_1 + \\rho &\\leq 0 \\quad &\\text{(distance à } x_1 \\geq 0\\text{)} \\\\\n",
        "    3x_1 - 4x_2 + 5\\rho &\\leq 1 \\quad &\\text{(distance à } 3x_1 -4x_2 \\leq 1\\text{)} \\\\\n",
        "    x_2 + \\rho &\\leq 1 \\quad &\\text{(distance à } x_2 \\leq 1\\text{)} \\\\\n",
        "    x_1 &= x_2 \\quad &\\text{(contrainte de ligne ℒ)} \\\\\n",
        "    \\rho &\\geq 0 \\quad &\\text{(rayon positif)}\n",
        "\\end{aligned}\n",
        "\\end{cases}\n",
        "}\n",
        "\\\n",
        "$$\n",
        "\n",
        "---\n",
        "\n",
        "#### **Explications des contraintes** :\n",
        "1. **Distance aux frontières** :  \n",
        "   Chaque contrainte garantit que la balle de rayon **ρ** ne dépasse pas les limites de **𝒫**. Par exemple :\n",
        "   - **-x₂ + ρ ≤ 0** : La distance du centre **x** à la frontière **x₂ = 0** doit être ≥ ρ.  \n",
        "     *Explication géométrique* : Le point le plus bas du cercle est en **x₂ - ρ**, qui doit rester ≥ 0.\n",
        "\n",
        "2. **Contrainte de ligne ℒ** :  \n",
        "   **x₁ = x₂** force le robot à rester sur la diagonale.\n",
        "\n",
        "3. **Normalisation des distances** :  \n",
        "   La contrainte **3x₁ -4x₂ + 5ρ ≤ 1** vient de la distance normalisée entre le point **x** et la droite **3x₁ -4x₂ = 1**.  \n",
        "   *Calcul* : La distance d'un point (x₁, x₂) à une droite **ax₁ + bx₂ + c = 0** est donnée par :  \n",
        "   $$\n",
        "   \\\n",
        "   \\text{distance} = \\frac{|ax₁ + bx₂ + c|}{\\sqrt{a^2 + b^2}}.\n",
        "   \\\n",
        "   $$  \n",
        "   Ici, **5ρ ≤ 1 - (3x₁ -4x₂)** car **√(3² + (-4)²) = 5**.\n",
        "\n",
        "---\n",
        "\n",
        "#### **Formulation pour le simplexe** :\n",
        "Pour résoudre avec l'algorithme du simplexe (phase II), on transforme le problème en :\n",
        "- **Minimiser** : **-ρ** (car maximiser ρ ≡ minimiser -ρ).\n",
        "- **Variables d'écart** : Ajouter **s₁, s₂, s₃, s₄ ≥ 0** pour convertir les inégalités en égalités :\n",
        "  $$\n",
        "  \\\n",
        "  \\begin{cases}\n",
        "    -x_2 + \\rho + s_1 = 0 \\\\\n",
        "    -x_1 + \\rho + s_2 = 0 \\\\\n",
        "    3x_1 -4x_2 +5\\rho + s_3 = 1 \\\\\n",
        "    x_2 + \\rho + s_4 = 1 \\\\\n",
        "    x_1 - x_2 = 0\n",
        "  \\end{cases}\n",
        "  \\\n",
        "  $$\n",
        "- **Variables** : [x₁, x₂, ρ, s₁, s₂, s₃, s₄].\n",
        "\n",
        "\n"
      ],
      "metadata": {
        "id": "fzeRtvJ80RGF"
      }
    },
    {
      "cell_type": "markdown",
      "source": [
        "### **Question 4 : Formulation du problème comme un programme linéaire (LP)**\n",
        "\n",
        "Pour transformer le problème d'optimisation en un **programme linéaire standard**, on suit ces étapes :\n",
        "\n",
        "---\n",
        "\n",
        "#### **1. Objectif**  \n",
        "Maximiser **ρ** équivaut à minimiser **-ρ** (car maximiser une fonction revient à minimiser son opposé).  \n",
        "→ Fonction objectif :  \n",
        "$$\n",
        "\\\n",
        "\\boxed{\\min \\left( - \\rho \\right)}\n",
        "\\\n",
        "$$\n",
        "\n",
        "---\n",
        "\n",
        "#### **2. Variables**  \n",
        "- **Variables principales** :  \n",
        "  - $ x_1, x_2 $ : Position du robot.  \n",
        "  - $ \\rho $ : Rayon de la balle de sécurité.  \n",
        "- **Variables d'écart** (pour convertir les inégalités en égalités) :  \n",
        "  - $ s_1, s_2, s_3, s_4 \\geq 0 $.  \n",
        "\n",
        "→ Vecteur des variables :  \n",
        "$$\n",
        "\\\n",
        "\\mathbf{X} = [x_1, x_2, \\rho, s_1, s_2, s_3, s_4]^\\top\n",
        "\\\n",
        "$$\n",
        "\n",
        "---\n",
        "\n",
        "#### **3. Contraintes**  \n",
        "Les contraintes originales sont reformulées en égalités avec des variables d'écart :  \n",
        "\n",
        "1. **Distance à $ x_2 \\geq 0 $** :  \n",
        "   $$\n",
        "   \\\n",
        "   -x_2 + \\rho \\leq 0 \\quad \\Rightarrow \\quad -x_2 + \\rho + s_1 = 0\n",
        "   \\\n",
        "   $$  \n",
        "2. **Distance à $ x_1 \\geq 0 $** :  \n",
        "   $$\n",
        "   \\\n",
        "   -x_1 + \\rho \\leq 0 \\quad \\Rightarrow \\quad -x_1 + \\rho + s_2 = 0\n",
        "   \\\n",
        "   $$  \n",
        "3. **Distance à $ 3x_1 - 4x_2 \\leq 1 $** :  \n",
        "   $$\n",
        "   \\\n",
        "   3x_1 - 4x_2 + 5\\rho \\leq 1 \\quad \\Rightarrow \\quad 3x_1 - 4x_2 + 5\\rho + s_3 = 1\n",
        "   \\\n",
        "   $$  \n",
        "4. **Distance à $ x_2 \\leq 1 $** :  \n",
        "   $$\n",
        "   \\\n",
        "   x_2 + \\rho \\leq 1 \\quad \\Rightarrow \\quad x_2 + \\rho + s_4 = 1\n",
        "   \\\n",
        "   $$  \n",
        "5. **Contrainte de ligne \\( \\mathcal{L} \\)** :  \n",
        "   $$\n",
        "   \\\n",
        "   x_1 - x_2 = 0\n",
        "   \\\n",
        "   $$  \n",
        "\n",
        "→ **Forme matricielle** :  \n",
        "\\[\n",
        "\\mathbf{A}_{\\text{eq}} \\mathbf{X} = \\mathbf{b}_{\\text{eq}}\n",
        "\\]  \n",
        "où $ \\mathbf{A}_{\\text{eq}} $ et $ \\mathbf{b}_{\\text{eq}} $ sont donnés dans votre image :  \n",
        "$$\n",
        "\\\n",
        "\\mathbf{A}_{\\text{eq}} = \\begin{bmatrix}\n",
        "0 & -1 & 1 & 1 & 0 & 0 & 0 \\\\\n",
        "-1 & 0 & 1 & 0 & 1 & 0 & 0 \\\\\n",
        "3 & -4 & 5 & 0 & 0 & 1 & 0 \\\\\n",
        "0 & 1 & 1 & 0 & 0 & 0 & 1 \\\\\n",
        "1 & -1 & 0 & 0 & 0 & 0 & 0 \\\\\n",
        "\\end{bmatrix}, \\quad\n",
        "\\mathbf{b}_{\\text{eq}} = \\begin{bmatrix}\n",
        "0 \\\\ 0 \\\\ 1 \\\\ 1 \\\\ 0 \\\\\n",
        "\\end{bmatrix}\n",
        "\\\n",
        "$$\n",
        "\n",
        "---\n",
        "\n",
        "#### **4. Forme standard du LP**  \n",
        "Le problème s'écrit finalement :  \n",
        "$$\n",
        "\\\n",
        "\\boxed{\n",
        "\\begin{cases}\n",
        "\\underset{\\mathbf{X}}{\\text{minimiser}} & \\mathbf{c}^\\top \\mathbf{X} = - \\rho \\quad \\text{(avec } \\mathbf{c} = [0, 0, -1, 0, 0, 0, 0]) \\\\\n",
        "\\text{sous contraintes} & \\mathbf{A}_{\\text{eq}} \\mathbf{X} = \\mathbf{b}_{\\text{eq}} \\\\\n",
        "& x_1, x_2, \\rho, s_1, s_2, s_3, s_4 \\geq 0.\n",
        "\\end{cases}\n",
        "}\n",
        "\\\n",
        "$$\n",
        "---\n",
        "\n",
        "#### **5. Interprétation des variables d'écart**  \n",
        "- Si $ s_i = 0 $ : La contrainte associée est **active** (la balle touche la frontière).  \n",
        "- Si $ s_i > 0 $ : La contrainte est **inactive** (la balle ne touche pas la frontière).  \n",
        "\n",
        "\n",
        "\n"
      ],
      "metadata": {
        "id": "9Bgy8jxf1dGr"
      }
    },
    {
      "cell_type": "markdown",
      "source": [
        "### **Question 5 : Formulation avec variables d'écart et égalités linéaires**\n",
        "\n",
        "#### **Objectif**  \n",
        "Transformer toutes les inégalités du problème LP en **égalités linéaires** via l'ajout de **variables d'écart**, pour préparer la résolution par l'algorithme du simplexe.\n",
        "\n",
        "---\n",
        "\n",
        "#### **Étapes de transformation**  \n",
        "1. **Partir des contraintes d'inégalité** (question 4) :  \n",
        "   $$\n",
        "   \\\n",
        "   \\begin{cases}\n",
        "   -x_2 + \\rho \\leq 0 \\\\\n",
        "   -x_1 + \\rho \\leq 0 \\\\\n",
        "   3x_1 - 4x_2 + 5\\rho \\leq 1 \\\\\n",
        "   x_2 + \\rho \\leq 1 \\\\\n",
        "   x_1 = x_2\n",
        "   \\end{cases}\n",
        "   \\\n",
        "   $$\n",
        "\n",
        "2. **Ajouter des variables d'écart** $ s_i \\geq 0 $ pour convertir chaque inégalité en égalité :  \n",
        "   $$\n",
        "   \\\n",
        "   \\begin{cases}\n",
        "   -x_2 + \\rho + s_1 = 0 \\quad &\\text{(1)} \\\\\n",
        "   -x_1 + \\rho + s_2 = 0 \\quad &\\text{(2)} \\\\\n",
        "   3x_1 - 4x_2 + 5\\rho + s_3 = 1 \\quad &\\text{(3)} \\\\\n",
        "   x_2 + \\rho + s_4 = 1 \\quad &\\text{(4)} \\\\\n",
        "   x_1 - x_2 = 0 \\quad &\\text{(5)}\n",
        "   \\end{cases}\n",
        "   \\\n",
        "   $$\n",
        "\n",
        "3. **Vecteur des variables** :  \n",
        "   $$\n",
        "   \\\n",
        "   \\mathbf{X} = [x_1, x_2, \\rho, s_1, s_2, s_3, s_4]^\\top\n",
        "   \\\n",
        "   $$\n",
        "\n",
        "---\n",
        "\n",
        "#### **Formulation matricielle**  \n",
        "La matrice $ \\mathbf{A}_{\\text{eq}} $ et le vecteur $ \\mathbf{b}_{\\text{eq}} $ sont **déjà fournis dans votre image** :  \n",
        "$$\n",
        "\\\n",
        "\\mathbf{A}_{\\text{eq}} = \\begin{bmatrix}\n",
        "0 & -1 & 1 & 1 & 0 & 0 & 0 \\\\\n",
        "-1 & 0 & 1 & 0 & 1 & 0 & 0 \\\\\n",
        "3 & -4 & 5 & 0 & 0 & 1 & 0 \\\\\n",
        "0 & 1 & 1 & 0 & 0 & 0 & 1 \\\\\n",
        "1 & -1 & 0 & 0 & 0 & 0 & 0 \\\\\n",
        "\\end{bmatrix}, \\quad\n",
        "\\mathbf{b}_{\\text{eq}} = \\begin{bmatrix}\n",
        "0 \\\\ 0 \\\\ 1 \\\\ 1 \\\\ 0 \\\\\n",
        "\\end{bmatrix}\n",
        "\\\n",
        "$$\n",
        "\n",
        "**Explication des lignes** :  \n",
        "- Ligne 1 : Contrainte (1) → $-x_2 + \\rho + s_1 = 0$.  \n",
        "- Ligne 2 : Contrainte (2) → $-x_1 + \\rho + s_2 = 0$.  \n",
        "- Ligne 3 : Contrainte (3) → $3x_1 -4x_2 +5\\rho + s_3 = 1$.  \n",
        "- Ligne 4 : Contrainte (4) → $x_2 + \\rho + s_4 = 1$.  \n",
        "- Ligne 5 : Contrainte (5) → $x_1 - x_2 = 0$.  \n",
        "\n",
        "---\n",
        "\n",
        "#### **Fonction objectif**  \n",
        "Minimiser $-\\rho$ s'exprime avec le vecteur :  \n",
        "$$\n",
        "\\\n",
        "\\mathbf{c} = [0, 0, -1, 0, 0, 0, 0]\n",
        "\\\n",
        "$$  \n",
        "(Seul le terme $-\\rho$ est présent dans la minimisation).\n",
        "\n",
        "\n",
        "---\n",
        "\n",
        "#### **Interprétation des résultats**  \n",
        "- **Variables d'écart nulles** $( s_i = 0 )$ indiquent une contrainte active (la balle touche la frontière).  \n",
        "- **Solution attendue** :  \n",
        "  - Si $ \\rho = 0.25 $, $ x_1 = x_2 = 0.25 $, alors $ s_1 = s_2 = 0 $ (contraintes $ x_1 \\geq 0 $ et $ x_2 \\geq 0 $ sont actives).  \n",
        ""
      ],
      "metadata": {
        "id": "e-3kfLEH3i6X"
      }
    },
    {
      "cell_type": "markdown",
      "source": [
        "Question 6 : Résolution du problème LP avec la fonction simplex_method()\n"
      ],
      "metadata": {
        "id": "cLGSsyyQ54wg"
      }
    },
    {
      "cell_type": "code",
      "source": [
        "# Données du problème (identique à Q5)\n",
        "A_eq = np.array([\n",
        "    [0, -1, 1, 1, 0, 0, 0],\n",
        "    [-1, 0, 1, 0, 1, 0, 0],\n",
        "    [3, -4, 5, 0, 0, 1, 0],\n",
        "    [0, 1, 1, 0, 0, 0, 1],\n",
        "    [1, -1, 0, 0, 0, 0, 0]\n",
        "], dtype=float)\n",
        "\n",
        "b_eq = np.array([0, 0, 1, 1, 0], dtype=float)\n",
        "c = np.array([0, 0, -1, 0, 0, 0, 0], dtype=float)  # Minimiser -ρ"
      ],
      "metadata": {
        "id": "MObChyGR56XE"
      },
      "execution_count": 7,
      "outputs": []
    },
    {
      "cell_type": "code",
      "source": [
        "# Résolution avec votre implémentation\n",
        "solution = simplex_method(A_eq, b_eq, c, is_init=False)"
      ],
      "metadata": {
        "id": "HgoF2kBs7aub"
      },
      "execution_count": 8,
      "outputs": []
    },
    {
      "cell_type": "code",
      "source": [
        "print(\"Solution optimale :\")\n",
        "print(f\"- Position (x1, x2) = ({solution[0]:.4f}, {solution[1]:.4f})\")\n",
        "print(f\"- Rayon maximal ρ = {solution[2]:.4f}\")\n",
        "print(f\"- Variables d'écart (s1, s2, s3, s4) = {solution[3:]}\")"
      ],
      "metadata": {
        "colab": {
          "base_uri": "https://localhost:8080/"
        },
        "id": "76jUmGIQ7iBj",
        "outputId": "4521a3d2-8aeb-4cf5-f29f-7dfe178c8d68"
      },
      "execution_count": 9,
      "outputs": [
        {
          "output_type": "stream",
          "name": "stdout",
          "text": [
            "Solution optimale :\n",
            "- Position (x1, x2) = (0.6667, 0.6667)\n",
            "- Rayon maximal ρ = 0.3333\n",
            "- Variables d'écart (s1, s2, s3, s4) = [0.33333333 0.33333333 0.         0.        ]\n"
          ]
        }
      ]
    },
    {
      "cell_type": "markdown",
      "source": [
        "# Validation avec SciPy\n",
        "Comparez avec scipy.optimize.linprog pour vérifier la cohérence :\n",
        "\n"
      ],
      "metadata": {
        "id": "qOXMX5It8ntl"
      }
    },
    {
      "cell_type": "code",
      "source": [
        "from scipy.optimize import linprog\n",
        "result = linprog(c, A_eq=A_eq, b_eq=b_eq, method='highs')\n",
        "print(\"Validation SciPy :\", result.x[:7])"
      ],
      "metadata": {
        "colab": {
          "base_uri": "https://localhost:8080/"
        },
        "id": "Yizao9J68190",
        "outputId": "ab32a24d-6495-4b27-8f76-7842d33e0b91"
      },
      "execution_count": 12,
      "outputs": [
        {
          "output_type": "stream",
          "name": "stdout",
          "text": [
            "Validation SciPy : [0.66666667 0.66666667 0.33333333 0.33333333 0.33333333 0.\n",
            " 0.        ]\n"
          ]
        }
      ]
    },
    {
      "cell_type": "markdown",
      "source": [
        "### **Analyse des Résultats Obtenus**\n",
        "\n",
        "#### **1. Solution Optimale**\n",
        "- **Position du robot** : $ (x_1, x_2) = (0.6667, 0.6667) $  \n",
        "  - Confirme que le robot est bien sur la ligne $ \\mathcal{L} $ ($ x_1 = x_2 $).  \n",
        "- **Rayon maximal** : $ \\rho = 0.3333 $  \n",
        "  - C'est la distance minimale garantie entre le robot et les frontières de $ \\mathcal{P} $.  \n",
        "\n",
        "#### **2. Variables d'écart**\n",
        "- **$ s_1 = s_2 = 0.3333 $** :  \n",
        "  - Les contraintes $ -x_1 + \\rho \\leq 0 $ et $ -x_2 + \\rho \\leq 0 $ sont **inactives** (la balle ne touche pas les axes $ x_1 = 0 $ ni $ x_2 = 0$ ).  \n",
        "- **$ s_3 = s_4 = 0 $** :  \n",
        "  - Les contraintes $ 3x_1 - 4x_2 + 5\\rho \\leq 1 $ et $ x_2 + \\rho \\leq 1 $ sont **actives** (la balle touche ces frontières).  \n",
        "\n",
        "#### **3. Validation avec SciPy**\n",
        "Les résultats de `linprog()` confirment ceux de votre implémentation :  \n",
        "- Même position $ (0.6667, 0.6667) $ et même $ \\rho = 0.3333 $.  \n",
        "- Variables d'écart cohérentes (sauf formatage différent).  \n",
        "\n",
        "---\n",
        "\n",
        "### **Interprétation Géométrique**\n",
        "1. **Pourquoi $ \\rho = 0.3333 $ ?**  \n",
        "   - La contrainte active $ 3x_1 - 4x_2 + 5\\rho = 1 $ (avec $ x_1 = x_2 $) donne :  \n",
        "     $$\n",
        "     \\\n",
        "     3(0.6667) - 4(0.6667) + 5(0.3333) = 1 \\quad \\Rightarrow \\quad -0.6667 + 1.6665 \\approx 1\n",
        "     \\\n",
        "     $$  \n",
        "   - La contrainte $ x_2 + \\rho = 1 $ est également saturée :  \n",
        "     $$\n",
        "     \\\n",
        "     0.6667 + 0.3333 = 1\n",
        "     \\\n",
        "     $$\n",
        "\n",
        "\n",
        "### **Comparaison avec la Solution Initiale Attendue**\n",
        "- **Hypothèse initiale** : On s'attendait à $ \\rho = 0.25 $ avec $ x_1 = x_2 = 0.25 $ (tangence aux axes).  \n",
        "- **Réalité** : La contrainte $ 3x_1 - 4x_2 + 5\\rho \\leq 1 $ est plus restrictive, poussant la solution vers un point plus éloigné des axes.  \n",
        "\n"
      ],
      "metadata": {
        "id": "_JT69jjM_DR_"
      }
    },
    {
      "cell_type": "markdown",
      "source": [
        "Visualisation"
      ],
      "metadata": {
        "id": "FMGfR72I9bhT"
      }
    },
    {
      "cell_type": "code",
      "source": [
        "import matplotlib.pyplot as plt\n",
        "import numpy as np\n",
        "\n",
        "# Données\n",
        "x1, x2, rho = 0.6667, 0.6667, 0.3333\n",
        "vertices_P = np.array([[0, 0], [0, 1], [5/3, 1], [1/3, 0]])  # Sommets de 𝒫\n",
        "\n",
        "# Tracé\n",
        "plt.figure(figsize=(10, 6))\n",
        "plt.fill(vertices_P[:,0], vertices_P[:,1], 'gray', alpha=0.3, label='𝒫')  # Polyèdre 𝒫\n",
        "plt.plot([0, 2], [0, 2], '--', color='orange', label='ℒ: $x_1 = x_2$')  # Ligne ℒ\n",
        "plt.plot(x1, x2, 'ro', label=f'Robot optimal: ({x1:.4f}, {x2:.4f})')  # Position optimale\n",
        "circle = plt.Circle((x1, x2), rho, color='cyan', alpha=0.3, label=f'Balle (ρ={rho:.4f})')  # Balle\n",
        "plt.gca().add_patch(circle)\n",
        "\n",
        "# Contraintes actives\n",
        "x1_vals = np.linspace(0, 2, 100)\n",
        "plt.plot(x1_vals, (3*x1_vals - 1)/4, 'r-', label='$3x_1 - 4x_2 = 1$')  # Frontière active\n",
        "plt.axhline(1, color='purple', linestyle='-', label='$x_2 = 1$')  # Autre frontière active\n",
        "\n",
        "# Paramètres graphiques\n",
        "plt.xlim(0, 1.5)\n",
        "plt.ylim(0, 1.5)\n",
        "plt.xlabel('$x_1$')\n",
        "plt.ylabel('$x_2$')\n",
        "plt.grid(True)\n",
        "plt.legend()\n",
        "plt.axis('equal')\n",
        "plt.title(\"Solution optimale avec contraintes actives\")\n",
        "plt.show()"
      ],
      "metadata": {
        "colab": {
          "base_uri": "https://localhost:8080/",
          "height": 565
        },
        "id": "QAfEtwE__oz3",
        "outputId": "cebac8b8-7b89-4628-e934-ffc7fc0c2060"
      },
      "execution_count": 14,
      "outputs": [
        {
          "output_type": "display_data",
          "data": {
            "text/plain": [
              "<Figure size 1000x600 with 1 Axes>"
            ],
            "image/png": "[encoded data removed]"
          },
          "metadata": {}
        }
      ]
    },
    {
      "cell_type": "markdown",
      "source": [
        "# Conclusion générale\n",
        "Ce travail a exploré l'optimisation de la position d'un robot dans un espace contraint, maximisant son rayon de sécurité.  L'approche a combiné la représentation graphique de l'espace de travail, la formulation mathématique du problème sous forme de programme linéaire (LP), et la résolution numérique via l'algorithme du simplexe, implémenté et comparé avec la librairie SciPy.  Les résultats numériques, cohérents entre notre implémentation et SciPy, ont montré que la position optimale du robot et son rayon de sécurité maximal sont contraints par les frontières de l'espace de travail, et non par les axes comme initialement supposé.  L'analyse des variables d'écart a permis d'identifier les contraintes actives, confirmant l'interprétation géométrique des résultats.  Ce projet illustre l'efficacité des méthodes d'optimisation linéaire pour résoudre des problèmes robotiques, et souligne l'importance de la validation des hypothèses par des analyses numériques et géométriques.\n"
      ],
      "metadata": {
        "id": "hfIOPUx3FXjg"
      }
    }
  ]
}